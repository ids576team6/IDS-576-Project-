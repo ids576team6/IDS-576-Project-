{
 "cells": [
  {
   "cell_type": "code",
   "execution_count": 1,
   "metadata": {},
   "outputs": [],
   "source": [
    "import tensorflow as tf\n",
    "from FaceAging import FaceAging\n",
    "from os import environ\n",
    "import argparse"
   ]
  },
  {
   "cell_type": "code",
   "execution_count": 3,
   "metadata": {
    "scrolled": true
   },
   "outputs": [
    {
     "name": "stdout",
     "output_type": "stream",
     "text": [
      "\n",
      "\tBuilding graph ...\n",
      "\n",
      "\tTesting Mode\n",
      "\n",
      "\tLoading pre-trained model ...\n",
      "INFO:tensorflow:Restoring parameters from save/checkpoint/model-1180\n",
      "\tSUCCESS ^_^\n",
      "\n",
      "\tDone! Results are saved as save/test/test_as_xxx.png\n",
      "\n"
     ]
    },
    {
     "ename": "SystemExit",
     "evalue": "",
     "output_type": "error",
     "traceback": [
      "An exception has occurred, use %tb to see the full traceback.\n",
      "\u001b[0;31mSystemExit\u001b[0m\n"
     ]
    }
   ],
   "source": [
    "is_train=False\n",
    "epoch=5\n",
    "dataset = 'UTKFace'\n",
    "savedir='save'\n",
    "testdir='test'\n",
    "use_trained_model=True\n",
    "use_init_model=True\n",
    "\n",
    "def main(_):\n",
    "\n",
    "    # print settings\n",
    "   \n",
    "    config = tf.ConfigProto()\n",
    "    config.gpu_options.allow_growth = True\n",
    "\n",
    "    with tf.Session(config=config) as session:\n",
    "        model = FaceAging(\n",
    "            session,  # TensorFlow session\n",
    "            is_training=is_train,  # flag for training or testing mode\n",
    "            save_dir=savedir,  # path to save checkpoints, samples, and summary\n",
    "            dataset_name=dataset  # name of the dataset in the folder ./data\n",
    "        )\n",
    "        if is_train:\n",
    "            print ('\\n\\tTraining Mode')\n",
    "            if not use_trained_model:\n",
    "                print ('\\n\\tPre-train the network')\n",
    "                model.train(\n",
    "                    num_epochs=10,  # number of epochs\n",
    "                    use_trained_model=use_trained_model,\n",
    "                    use_init_model=use_init_model,\n",
    "                    weigts=(0, 0, 0)\n",
    "                )\n",
    "                print ('\\n\\tPre-train is done! The training will start.')\n",
    "            model.train(\n",
    "                num_epochs=epoch,  # number of epochs\n",
    "                use_trained_model=use_trained_model,\n",
    "                use_init_model=use_init_model\n",
    "            )\n",
    "        else:\n",
    "            print ('\\n\\tTesting Mode')\n",
    "            model.custom_test(\n",
    "                testing_samples_dir=testdir + '/*jpg'\n",
    "            )\n",
    "\n",
    "if __name__ == '__main__':\n",
    "    # with tf.device('/cpu:0'):\n",
    "    tf.app.run()\n",
    "    "
   ]
  },
  {
   "cell_type": "code",
   "execution_count": null,
   "metadata": {},
   "outputs": [],
   "source": []
  }
 ],
 "metadata": {
  "kernelspec": {
   "display_name": "Python 3",
   "language": "python",
   "name": "python3"
  },
  "language_info": {
   "codemirror_mode": {
    "name": "ipython",
    "version": 3
   },
   "file_extension": ".py",
   "mimetype": "text/x-python",
   "name": "python",
   "nbconvert_exporter": "python",
   "pygments_lexer": "ipython3",
   "version": "3.6.8"
  }
 },
 "nbformat": 4,
 "nbformat_minor": 2
}
